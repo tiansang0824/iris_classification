{
 "cells": [
  {
   "metadata": {},
   "cell_type": "markdown",
   "source": [
    "# TensorFlow神经网络模型处理鸢尾花分类问题\n",
    "\n"
   ],
   "id": "109b096efeb581ce"
  },
  {
   "metadata": {
    "ExecuteTime": {
     "end_time": "2024-06-29T09:27:11.899732Z",
     "start_time": "2024-06-29T09:27:11.895744Z"
    }
   },
   "cell_type": "code",
   "source": [
    "import numpy as np\n",
    "import pandas as pd\n",
    "import tensorflow as tf\n",
    "import matplotlib.pyplot as plt\n",
    "import sklearn as sk  # scikit-learn,用于拆分数据集.\n",
    "from sklearn.model_selection import train_test_split\n",
    "\n",
    "from tensorflow.keras.losses import SparseCategoricalCrossentropy\n",
    "\n",
    "from sklearn.metrics import accuracy_score"
   ],
   "id": "8106c1787926b0f0",
   "outputs": [],
   "execution_count": 42
  },
  {
   "metadata": {
    "ExecuteTime": {
     "end_time": "2024-06-29T09:27:12.225142Z",
     "start_time": "2024-06-29T09:27:12.220926Z"
    }
   },
   "cell_type": "code",
   "source": "dataset_path = './iris.csv'\n",
   "id": "38dd18db140318f2",
   "outputs": [],
   "execution_count": 43
  },
  {
   "metadata": {},
   "cell_type": "markdown",
   "source": "## 1. 数据可视化\n",
   "id": "54d8a6d075c38745"
  },
  {
   "metadata": {},
   "cell_type": "markdown",
   "source": "进行机器学习分类之前,先使用matplotlib对数据进行可视化处理,了解数据分布情况.\n",
   "id": "15abffa2e6dcfc02"
  },
  {
   "metadata": {
    "ExecuteTime": {
     "end_time": "2024-06-29T09:27:12.255188Z",
     "start_time": "2024-06-29T09:27:12.251023Z"
    }
   },
   "cell_type": "code",
   "source": [
    "# 配置matplotlib\n",
    "plt.rcParams['font.family']='SimHei'\n"
   ],
   "id": "2521d2c91665c185",
   "outputs": [],
   "execution_count": 44
  },
  {
   "metadata": {
    "ExecuteTime": {
     "end_time": "2024-06-29T09:27:12.329672Z",
     "start_time": "2024-06-29T09:27:12.313165Z"
    }
   },
   "cell_type": "code",
   "source": [
    "# 导入数据\n",
    "iris = pd.read_csv(dataset_path)\n",
    "\n",
    "iris.info()\n",
    "iris.head()"
   ],
   "id": "4976985fd61c82db",
   "outputs": [
    {
     "name": "stdout",
     "output_type": "stream",
     "text": [
      "<class 'pandas.core.frame.DataFrame'>\n",
      "RangeIndex: 150 entries, 0 to 149\n",
      "Data columns (total 6 columns):\n",
      " #   Column         Non-Null Count  Dtype  \n",
      "---  ------         --------------  -----  \n",
      " 0   Id             150 non-null    int64  \n",
      " 1   SepalLengthCm  150 non-null    float64\n",
      " 2   SepalWidthCm   150 non-null    float64\n",
      " 3   PetalLengthCm  150 non-null    float64\n",
      " 4   PetalWidthCm   150 non-null    float64\n",
      " 5   Species        150 non-null    object \n",
      "dtypes: float64(4), int64(1), object(1)\n",
      "memory usage: 7.2+ KB\n"
     ]
    },
    {
     "data": {
      "text/plain": [
       "   Id  SepalLengthCm  SepalWidthCm  PetalLengthCm  PetalWidthCm      Species\n",
       "0   1            5.1           3.5            1.4           0.2  Iris-setosa\n",
       "1   2            4.9           3.0            1.4           0.2  Iris-setosa\n",
       "2   3            4.7           3.2            1.3           0.2  Iris-setosa\n",
       "3   4            4.6           3.1            1.5           0.2  Iris-setosa\n",
       "4   5            5.0           3.6            1.4           0.2  Iris-setosa"
      ],
      "text/html": [
       "<div>\n",
       "<style scoped>\n",
       "    .dataframe tbody tr th:only-of-type {\n",
       "        vertical-align: middle;\n",
       "    }\n",
       "\n",
       "    .dataframe tbody tr th {\n",
       "        vertical-align: top;\n",
       "    }\n",
       "\n",
       "    .dataframe thead th {\n",
       "        text-align: right;\n",
       "    }\n",
       "</style>\n",
       "<table border=\"1\" class=\"dataframe\">\n",
       "  <thead>\n",
       "    <tr style=\"text-align: right;\">\n",
       "      <th></th>\n",
       "      <th>Id</th>\n",
       "      <th>SepalLengthCm</th>\n",
       "      <th>SepalWidthCm</th>\n",
       "      <th>PetalLengthCm</th>\n",
       "      <th>PetalWidthCm</th>\n",
       "      <th>Species</th>\n",
       "    </tr>\n",
       "  </thead>\n",
       "  <tbody>\n",
       "    <tr>\n",
       "      <th>0</th>\n",
       "      <td>1</td>\n",
       "      <td>5.1</td>\n",
       "      <td>3.5</td>\n",
       "      <td>1.4</td>\n",
       "      <td>0.2</td>\n",
       "      <td>Iris-setosa</td>\n",
       "    </tr>\n",
       "    <tr>\n",
       "      <th>1</th>\n",
       "      <td>2</td>\n",
       "      <td>4.9</td>\n",
       "      <td>3.0</td>\n",
       "      <td>1.4</td>\n",
       "      <td>0.2</td>\n",
       "      <td>Iris-setosa</td>\n",
       "    </tr>\n",
       "    <tr>\n",
       "      <th>2</th>\n",
       "      <td>3</td>\n",
       "      <td>4.7</td>\n",
       "      <td>3.2</td>\n",
       "      <td>1.3</td>\n",
       "      <td>0.2</td>\n",
       "      <td>Iris-setosa</td>\n",
       "    </tr>\n",
       "    <tr>\n",
       "      <th>3</th>\n",
       "      <td>4</td>\n",
       "      <td>4.6</td>\n",
       "      <td>3.1</td>\n",
       "      <td>1.5</td>\n",
       "      <td>0.2</td>\n",
       "      <td>Iris-setosa</td>\n",
       "    </tr>\n",
       "    <tr>\n",
       "      <th>4</th>\n",
       "      <td>5</td>\n",
       "      <td>5.0</td>\n",
       "      <td>3.6</td>\n",
       "      <td>1.4</td>\n",
       "      <td>0.2</td>\n",
       "      <td>Iris-setosa</td>\n",
       "    </tr>\n",
       "  </tbody>\n",
       "</table>\n",
       "</div>"
      ]
     },
     "execution_count": 45,
     "metadata": {},
     "output_type": "execute_result"
    }
   ],
   "execution_count": 45
  },
  {
   "metadata": {},
   "cell_type": "markdown",
   "source": "绘制散点图表示数据分布情况.\n",
   "id": "bc228a87f077c4f7"
  },
  {
   "metadata": {
    "ExecuteTime": {
     "end_time": "2024-06-29T09:27:12.624277Z",
     "start_time": "2024-06-29T09:27:12.338229Z"
    }
   },
   "cell_type": "code",
   "source": [
    "fig = (iris[iris.Species == 'Iris-setosa'].plot(kind='scatter', x='SepalLengthCm', y='SepalWidthCm', color='orange',\n",
    "                                                label='Setosa'))\n",
    "iris[iris.Species == 'Iris-versicolor'].plot(kind='scatter', x='SepalLengthCm', y='SepalWidthCm', color='blue',\n",
    "                                             label='versicolor', ax=fig)\n",
    "iris[iris.Species == 'Iris-virginica'].plot(kind='scatter', x='SepalLengthCm', y='SepalWidthCm', color='green',\n",
    "                                            label='virginica', ax=fig)\n",
    "fig.set_xlabel(\"花萼长度\")  # 设置x标签\n",
    "fig.set_ylabel(\"花萼宽度\")  # 设置y标签\n",
    "fig.set_title(\"花萼长宽与种类关系-散点\")  # 设置标题\n",
    "fig = plt.gcf()  # 获取最近的图像\n",
    "fig.set_size_inches(10, 6)  # 设置尺寸\n",
    "plt.show()  # 显示图片\n"
   ],
   "id": "786c48d1a46b3ea7",
   "outputs": [
    {
     "data": {
      "text/plain": [
       "<Figure size 1000x600 with 1 Axes>"
      ],
      "image/png": "[encoded data removed]"
     },
     "metadata": {},
     "output_type": "display_data"
    }
   ],
   "execution_count": 46
  },
  {
   "metadata": {
    "ExecuteTime": {
     "end_time": "2024-06-29T09:27:12.906898Z",
     "start_time": "2024-06-29T09:27:12.626287Z"
    }
   },
   "cell_type": "code",
   "source": [
    "fig = iris[iris.Species == 'Iris-setosa'].plot.scatter(x='PetalLengthCm', y='PetalWidthCm', color='orange',\n",
    "                                                       label='Setosa')\n",
    "iris[iris.Species == 'Iris-versicolor'].plot.scatter(x='PetalLengthCm', y='PetalWidthCm', color='blue',\n",
    "                                                     label='versicolor', ax=fig)\n",
    "iris[iris.Species == 'Iris-virginica'].plot.scatter(x='PetalLengthCm', y='PetalWidthCm', color='green',\n",
    "                                                    label='virginica', ax=fig)\n",
    "fig.set_xlabel(\"花瓣长度\")  # petal length\n",
    "fig.set_ylabel(\"花瓣宽度\")  # petal width\n",
    "fig.set_title(\"花瓣长宽与种类的关系-散点\")\n",
    "fig = plt.gcf()\n",
    "fig.set_size_inches(10, 6)\n",
    "plt.show()\n"
   ],
   "id": "17c586b4da8f8878",
   "outputs": [
    {
     "data": {
      "text/plain": [
       "<Figure size 1000x600 with 1 Axes>"
      ],
      "image/png": "[encoded data removed]"
     },
     "metadata": {},
     "output_type": "display_data"
    }
   ],
   "execution_count": 47
  },
  {
   "metadata": {
    "ExecuteTime": {
     "end_time": "2024-06-29T09:27:13.544391Z",
     "start_time": "2024-06-29T09:27:12.908915Z"
    }
   },
   "cell_type": "code",
   "source": [
    "iris.drop(['Id'],axis=1).hist(edgecolor='black', linewidth=1)\n",
    "fig = plt.gcf()\n",
    "fig.set_size_inches(12, 6)\n",
    "plt.show()"
   ],
   "id": "6d811c6bfa6b35e7",
   "outputs": [
    {
     "data": {
      "text/plain": [
       "<Figure size 1200x600 with 4 Axes>"
      ],
      "image/png": "[encoded data removed]"
     },
     "metadata": {},
     "output_type": "display_data"
    }
   ],
   "execution_count": 48
  },
  {
   "metadata": {
    "ExecuteTime": {
     "end_time": "2024-06-29T09:27:13.548512Z",
     "start_time": "2024-06-29T09:27:13.546434Z"
    }
   },
   "cell_type": "code",
   "source": "",
   "id": "7baabc8463b7ac5b",
   "outputs": [],
   "execution_count": 48
  },
  {
   "metadata": {},
   "cell_type": "markdown",
   "source": "## 2. 数据处理\n",
   "id": "7ee1114a4d19f14"
  },
  {
   "metadata": {},
   "cell_type": "markdown",
   "source": [
    "### Pandas读取数据并转化为NumPy\n",
    "\n",
    "说明:Pandas读取csv文件后得到一个DataFrame对象,通过该df对象的value属性,是否可以将其值以NumPy的ndarray的方式获取?\n",
    "\n"
   ],
   "id": "ff5288640a348b9d"
  },
  {
   "metadata": {
    "ExecuteTime": {
     "end_time": "2024-06-29T09:27:13.559926Z",
     "start_time": "2024-06-29T09:27:13.550542Z"
    }
   },
   "cell_type": "code",
   "source": [
    "iris = pd.read_csv(dataset_path)\n",
    "\n",
    "iris.info()\n"
   ],
   "id": "d161b2d44c4a1479",
   "outputs": [
    {
     "name": "stdout",
     "output_type": "stream",
     "text": [
      "<class 'pandas.core.frame.DataFrame'>\n",
      "RangeIndex: 150 entries, 0 to 149\n",
      "Data columns (total 6 columns):\n",
      " #   Column         Non-Null Count  Dtype  \n",
      "---  ------         --------------  -----  \n",
      " 0   Id             150 non-null    int64  \n",
      " 1   SepalLengthCm  150 non-null    float64\n",
      " 2   SepalWidthCm   150 non-null    float64\n",
      " 3   PetalLengthCm  150 non-null    float64\n",
      " 4   PetalWidthCm   150 non-null    float64\n",
      " 5   Species        150 non-null    object \n",
      "dtypes: float64(4), int64(1), object(1)\n",
      "memory usage: 7.2+ KB\n"
     ]
    }
   ],
   "execution_count": 49
  },
  {
   "metadata": {
    "ExecuteTime": {
     "end_time": "2024-06-29T09:27:13.565676Z",
     "start_time": "2024-06-29T09:27:13.561189Z"
    }
   },
   "cell_type": "code",
   "source": [
    "# 事实证明,取values的时候,返回的数据本身就是一个ndarray...\n",
    "type(iris.values)\n"
   ],
   "id": "eb62bd2265a62b1c",
   "outputs": [
    {
     "data": {
      "text/plain": [
       "numpy.ndarray"
      ]
     },
     "execution_count": 50,
     "metadata": {},
     "output_type": "execute_result"
    }
   ],
   "execution_count": 50
  },
  {
   "metadata": {},
   "cell_type": "markdown",
   "source": [
    "### 拆分DataFrame\n",
    "\n"
   ],
   "id": "9df2855fe3820520"
  },
  {
   "metadata": {
    "ExecuteTime": {
     "end_time": "2024-06-29T09:27:13.572982Z",
     "start_time": "2024-06-29T09:27:13.566681Z"
    }
   },
   "cell_type": "code",
   "source": [
    "# 这一步的目的是获取某一列的值,最终要求将能够把DataFrame的Species列分离出来.\n",
    "species = iris.loc[:,'Species']  # 获取列\n",
    "type(species)\n"
   ],
   "id": "6930dd5ebf2b36ae",
   "outputs": [
    {
     "data": {
      "text/plain": [
       "pandas.core.series.Series"
      ]
     },
     "execution_count": 51,
     "metadata": {},
     "output_type": "execute_result"
    }
   ],
   "execution_count": 51
  },
  {
   "metadata": {
    "ExecuteTime": {
     "end_time": "2024-06-29T09:27:13.584490Z",
     "start_time": "2024-06-29T09:27:13.575049Z"
    }
   },
   "cell_type": "code",
   "source": [
    "features = iris.loc[:, 'SepalLengthCm':'PetalWidthCm']  # 切片的方式获取特征所在列\n",
    "# features = iris.iloc[:, 1:2]  # 隐式切片\n",
    "features.head()"
   ],
   "id": "8df02a77220c517f",
   "outputs": [
    {
     "data": {
      "text/plain": [
       "   SepalLengthCm  SepalWidthCm  PetalLengthCm  PetalWidthCm\n",
       "0            5.1           3.5            1.4           0.2\n",
       "1            4.9           3.0            1.4           0.2\n",
       "2            4.7           3.2            1.3           0.2\n",
       "3            4.6           3.1            1.5           0.2\n",
       "4            5.0           3.6            1.4           0.2"
      ],
      "text/html": [
       "<div>\n",
       "<style scoped>\n",
       "    .dataframe tbody tr th:only-of-type {\n",
       "        vertical-align: middle;\n",
       "    }\n",
       "\n",
       "    .dataframe tbody tr th {\n",
       "        vertical-align: top;\n",
       "    }\n",
       "\n",
       "    .dataframe thead th {\n",
       "        text-align: right;\n",
       "    }\n",
       "</style>\n",
       "<table border=\"1\" class=\"dataframe\">\n",
       "  <thead>\n",
       "    <tr style=\"text-align: right;\">\n",
       "      <th></th>\n",
       "      <th>SepalLengthCm</th>\n",
       "      <th>SepalWidthCm</th>\n",
       "      <th>PetalLengthCm</th>\n",
       "      <th>PetalWidthCm</th>\n",
       "    </tr>\n",
       "  </thead>\n",
       "  <tbody>\n",
       "    <tr>\n",
       "      <th>0</th>\n",
       "      <td>5.1</td>\n",
       "      <td>3.5</td>\n",
       "      <td>1.4</td>\n",
       "      <td>0.2</td>\n",
       "    </tr>\n",
       "    <tr>\n",
       "      <th>1</th>\n",
       "      <td>4.9</td>\n",
       "      <td>3.0</td>\n",
       "      <td>1.4</td>\n",
       "      <td>0.2</td>\n",
       "    </tr>\n",
       "    <tr>\n",
       "      <th>2</th>\n",
       "      <td>4.7</td>\n",
       "      <td>3.2</td>\n",
       "      <td>1.3</td>\n",
       "      <td>0.2</td>\n",
       "    </tr>\n",
       "    <tr>\n",
       "      <th>3</th>\n",
       "      <td>4.6</td>\n",
       "      <td>3.1</td>\n",
       "      <td>1.5</td>\n",
       "      <td>0.2</td>\n",
       "    </tr>\n",
       "    <tr>\n",
       "      <th>4</th>\n",
       "      <td>5.0</td>\n",
       "      <td>3.6</td>\n",
       "      <td>1.4</td>\n",
       "      <td>0.2</td>\n",
       "    </tr>\n",
       "  </tbody>\n",
       "</table>\n",
       "</div>"
      ]
     },
     "execution_count": 52,
     "metadata": {},
     "output_type": "execute_result"
    }
   ],
   "execution_count": 52
  },
  {
   "metadata": {
    "ExecuteTime": {
     "end_time": "2024-06-29T09:27:13.591079Z",
     "start_time": "2024-06-29T09:27:13.585815Z"
    }
   },
   "cell_type": "code",
   "source": "type(features)",
   "id": "70e76fcce2c6a8f9",
   "outputs": [
    {
     "data": {
      "text/plain": [
       "pandas.core.frame.DataFrame"
      ]
     },
     "execution_count": 53,
     "metadata": {},
     "output_type": "execute_result"
    }
   ],
   "execution_count": 53
  },
  {
   "metadata": {},
   "cell_type": "markdown",
   "source": "获取到指定的特征列(DataFrame)和指定的结果列(Series)之后,将其转换为ndarray.\n",
   "id": "b93e9368140f8f54"
  },
  {
   "metadata": {
    "ExecuteTime": {
     "end_time": "2024-06-29T09:27:13.602873Z",
     "start_time": "2024-06-29T09:27:13.592589Z"
    }
   },
   "cell_type": "code",
   "source": [
    "species = species.values\n",
    "\n",
    "type(species), species.shape\n"
   ],
   "id": "d992117dfb12c7b9",
   "outputs": [
    {
     "data": {
      "text/plain": [
       "(numpy.ndarray, (150,))"
      ]
     },
     "execution_count": 54,
     "metadata": {},
     "output_type": "execute_result"
    }
   ],
   "execution_count": 54
  },
  {
   "metadata": {
    "ExecuteTime": {
     "end_time": "2024-06-29T09:27:13.614209Z",
     "start_time": "2024-06-29T09:27:13.603876Z"
    }
   },
   "cell_type": "code",
   "source": [
    "features = features.values\n",
    "\n",
    "type(features), features.shape\n"
   ],
   "id": "6df3039b0d04698f",
   "outputs": [
    {
     "data": {
      "text/plain": [
       "(numpy.ndarray, (150, 4))"
      ]
     },
     "execution_count": 55,
     "metadata": {},
     "output_type": "execute_result"
    }
   ],
   "execution_count": 55
  },
  {
   "metadata": {},
   "cell_type": "markdown",
   "source": "到这里还没完,下面输出一下features和species做一下测试:\n",
   "id": "8bd47aacc6a0f68d"
  },
  {
   "metadata": {
    "ExecuteTime": {
     "end_time": "2024-06-29T09:27:13.620856Z",
     "start_time": "2024-06-29T09:27:13.615218Z"
    }
   },
   "cell_type": "code",
   "source": "features[10:20]",
   "id": "719f66e46439a7c2",
   "outputs": [
    {
     "data": {
      "text/plain": [
       "array([[5.4, 3.7, 1.5, 0.2],\n",
       "       [4.8, 3.4, 1.6, 0.2],\n",
       "       [4.8, 3. , 1.4, 0.1],\n",
       "       [4.3, 3. , 1.1, 0.1],\n",
       "       [5.8, 4. , 1.2, 0.2],\n",
       "       [5.7, 4.4, 1.5, 0.4],\n",
       "       [5.4, 3.9, 1.3, 0.4],\n",
       "       [5.1, 3.5, 1.4, 0.3],\n",
       "       [5.7, 3.8, 1.7, 0.3],\n",
       "       [5.1, 3.8, 1.5, 0.3]])"
      ]
     },
     "execution_count": 56,
     "metadata": {},
     "output_type": "execute_result"
    }
   ],
   "execution_count": 56
  },
  {
   "metadata": {},
   "cell_type": "markdown",
   "source": [
    "可以看到,features每一行表示一个样本,每一列表示一个特征,数据全部都是浮点型数据.\n",
    "\n",
    "下面输出species做测试:\n"
   ],
   "id": "40f23cd18bfde0f6"
  },
  {
   "metadata": {
    "ExecuteTime": {
     "end_time": "2024-06-29T09:27:13.627650Z",
     "start_time": "2024-06-29T09:27:13.622254Z"
    }
   },
   "cell_type": "code",
   "source": "species[10:20]",
   "id": "cdd0ca7a2248b12a",
   "outputs": [
    {
     "data": {
      "text/plain": [
       "array(['Iris-setosa', 'Iris-setosa', 'Iris-setosa', 'Iris-setosa',\n",
       "       'Iris-setosa', 'Iris-setosa', 'Iris-setosa', 'Iris-setosa',\n",
       "       'Iris-setosa', 'Iris-setosa'], dtype=object)"
      ]
     },
     "execution_count": 57,
     "metadata": {},
     "output_type": "execute_result"
    }
   ],
   "execution_count": 57
  },
  {
   "metadata": {},
   "cell_type": "markdown",
   "source": [
    "可见,species每一行表示一个样本,每一列表示一个结果.\n",
    "\n",
    "但是,species的每个数据都是一个字符串,这将无法参与训练神经网络,所以需要转换成整形数据.\n"
   ],
   "id": "3d13f4037034e043"
  },
  {
   "metadata": {
    "ExecuteTime": {
     "end_time": "2024-06-29T09:27:13.634791Z",
     "start_time": "2024-06-29T09:27:13.631223Z"
    }
   },
   "cell_type": "code",
   "source": "species,categories = pd.factorize(species)\n",
   "id": "1581a9ec8d4e7bd7",
   "outputs": [],
   "execution_count": 58
  },
  {
   "metadata": {},
   "cell_type": "markdown",
   "source": [
    "通过上述代码,可以将species中的字符串转换成整形数据.\n",
    "\n",
    "此外,该函数返回两个参数,第一个保存了转换后的数据,第二个保存了转换后的类别.\n"
   ],
   "id": "903b3a4b1ef690db"
  },
  {
   "metadata": {
    "ExecuteTime": {
     "end_time": "2024-06-29T09:27:13.641537Z",
     "start_time": "2024-06-29T09:27:13.636168Z"
    }
   },
   "cell_type": "code",
   "source": "categories",
   "id": "e3fbe17df232f011",
   "outputs": [
    {
     "data": {
      "text/plain": [
       "array(['Iris-setosa', 'Iris-versicolor', 'Iris-virginica'], dtype=object)"
      ]
     },
     "execution_count": 59,
     "metadata": {},
     "output_type": "execute_result"
    }
   ],
   "execution_count": 59
  },
  {
   "metadata": {
    "ExecuteTime": {
     "end_time": "2024-06-29T09:27:13.648099Z",
     "start_time": "2024-06-29T09:27:13.642546Z"
    }
   },
   "cell_type": "code",
   "source": "len(categories)",
   "id": "1e4d0c251cd9f674",
   "outputs": [
    {
     "data": {
      "text/plain": [
       "3"
      ]
     },
     "execution_count": 60,
     "metadata": {},
     "output_type": "execute_result"
    }
   ],
   "execution_count": 60
  },
  {
   "metadata": {
    "ExecuteTime": {
     "end_time": "2024-06-29T09:27:13.655312Z",
     "start_time": "2024-06-29T09:27:13.649328Z"
    }
   },
   "cell_type": "code",
   "source": "species",
   "id": "fbb9cc4c22c2182b",
   "outputs": [
    {
     "data": {
      "text/plain": [
       "array([0, 0, 0, 0, 0, 0, 0, 0, 0, 0, 0, 0, 0, 0, 0, 0, 0, 0, 0, 0, 0, 0,\n",
       "       0, 0, 0, 0, 0, 0, 0, 0, 0, 0, 0, 0, 0, 0, 0, 0, 0, 0, 0, 0, 0, 0,\n",
       "       0, 0, 0, 0, 0, 0, 1, 1, 1, 1, 1, 1, 1, 1, 1, 1, 1, 1, 1, 1, 1, 1,\n",
       "       1, 1, 1, 1, 1, 1, 1, 1, 1, 1, 1, 1, 1, 1, 1, 1, 1, 1, 1, 1, 1, 1,\n",
       "       1, 1, 1, 1, 1, 1, 1, 1, 1, 1, 1, 1, 2, 2, 2, 2, 2, 2, 2, 2, 2, 2,\n",
       "       2, 2, 2, 2, 2, 2, 2, 2, 2, 2, 2, 2, 2, 2, 2, 2, 2, 2, 2, 2, 2, 2,\n",
       "       2, 2, 2, 2, 2, 2, 2, 2, 2, 2, 2, 2, 2, 2, 2, 2, 2, 2], dtype=int64)"
      ]
     },
     "execution_count": 61,
     "metadata": {},
     "output_type": "execute_result"
    }
   ],
   "execution_count": 61
  },
  {
   "metadata": {
    "ExecuteTime": {
     "end_time": "2024-06-29T09:27:13.661489Z",
     "start_time": "2024-06-29T09:27:13.656320Z"
    }
   },
   "cell_type": "code",
   "source": "len(species)",
   "id": "80473713f5b18238",
   "outputs": [
    {
     "data": {
      "text/plain": [
       "150"
      ]
     },
     "execution_count": 62,
     "metadata": {},
     "output_type": "execute_result"
    }
   ],
   "execution_count": 62
  },
  {
   "metadata": {
    "ExecuteTime": {
     "end_time": "2024-06-29T09:27:13.665664Z",
     "start_time": "2024-06-29T09:27:13.662495Z"
    }
   },
   "cell_type": "code",
   "source": "",
   "id": "2d5547273b7d431",
   "outputs": [],
   "execution_count": 62
  },
  {
   "metadata": {},
   "cell_type": "markdown",
   "source": [
    "### 分割训练集,验证集,测试集\n",
    "\n",
    "第一个是features,该矩阵的每一行表示一组特征,每一列表示某一个特征;\n",
    "\n",
    "第二个是species,该矩阵为1x150,保存了全部的物种结果.\n",
    "\n"
   ],
   "id": "8c0bec00a65d00c4"
  },
  {
   "metadata": {},
   "cell_type": "markdown",
   "source": [
    "至此,已经获得了两个完善的数据集,下一步的任务就是对数据集进行分割,用于训练和验证神经网络模型.\n",
    "\n",
    "拆分数据集主要通过scikit-learn(sk)的`sk.model_selection.train_test_split()`函数,并将数据集二八开进行拆分(八成作为训练集).\n"
   ],
   "id": "ef0e8ca8db8ba9e2"
  },
  {
   "metadata": {
    "ExecuteTime": {
     "end_time": "2024-06-29T09:27:13.671747Z",
     "start_time": "2024-06-29T09:27:13.667693Z"
    }
   },
   "cell_type": "code",
   "source": [
    "random_state=1\n",
    "\n",
    "x_train, x_tmp, y_train, y_tmp = train_test_split(features, species, test_size=0.4, random_state=random_state)\n"
   ],
   "id": "9ffe66f7269fe698",
   "outputs": [],
   "execution_count": 63
  },
  {
   "metadata": {
    "ExecuteTime": {
     "end_time": "2024-06-29T09:27:13.677534Z",
     "start_time": "2024-06-29T09:27:13.673241Z"
    }
   },
   "cell_type": "code",
   "source": "x_cv, x_test, y_cv, y_test = train_test_split(x_tmp, y_tmp, test_size=0.5, random_state=random_state)\n",
   "id": "6d019d6b96e6d0e6",
   "outputs": [],
   "execution_count": 64
  },
  {
   "metadata": {
    "ExecuteTime": {
     "end_time": "2024-06-29T09:27:13.684619Z",
     "start_time": "2024-06-29T09:27:13.678688Z"
    }
   },
   "cell_type": "code",
   "source": "x_train.shape, y_train.shape",
   "id": "9d8febb4ca632a84",
   "outputs": [
    {
     "data": {
      "text/plain": [
       "((90, 4), (90,))"
      ]
     },
     "execution_count": 65,
     "metadata": {},
     "output_type": "execute_result"
    }
   ],
   "execution_count": 65
  },
  {
   "metadata": {
    "ExecuteTime": {
     "end_time": "2024-06-29T09:27:13.691722Z",
     "start_time": "2024-06-29T09:27:13.686749Z"
    }
   },
   "cell_type": "code",
   "source": "x_train[:5]",
   "id": "f077a644a91834a8",
   "outputs": [
    {
     "data": {
      "text/plain": [
       "array([[4.8, 3.4, 1.6, 0.2],\n",
       "       [5.7, 2.5, 5. , 2. ],\n",
       "       [6.3, 2.7, 4.9, 1.8],\n",
       "       [4.8, 3. , 1.4, 0.1],\n",
       "       [4.7, 3.2, 1.3, 0.2]])"
      ]
     },
     "execution_count": 66,
     "metadata": {},
     "output_type": "execute_result"
    }
   ],
   "execution_count": 66
  },
  {
   "metadata": {
    "ExecuteTime": {
     "end_time": "2024-06-29T09:27:13.699019Z",
     "start_time": "2024-06-29T09:27:13.692730Z"
    }
   },
   "cell_type": "code",
   "source": "y_train[10:20]",
   "id": "e7c3296b328e0be4",
   "outputs": [
    {
     "data": {
      "text/plain": [
       "array([1, 2, 2, 0, 1, 1, 2, 1, 2, 1], dtype=int64)"
      ]
     },
     "execution_count": 67,
     "metadata": {},
     "output_type": "execute_result"
    }
   ],
   "execution_count": 67
  },
  {
   "metadata": {
    "ExecuteTime": {
     "end_time": "2024-06-29T09:27:13.703597Z",
     "start_time": "2024-06-29T09:27:13.700035Z"
    }
   },
   "cell_type": "code",
   "source": "",
   "id": "bb6cb868bf766e9",
   "outputs": [],
   "execution_count": 67
  },
  {
   "metadata": {},
   "cell_type": "markdown",
   "source": "## 3. 神经网络模型",
   "id": "4b79c2b995e0139b"
  },
  {
   "metadata": {},
   "cell_type": "markdown",
   "source": "### 创建神经网络模型\n",
   "id": "aa67267aec70c48d"
  },
  {
   "metadata": {
    "ExecuteTime": {
     "end_time": "2024-06-29T09:27:13.712054Z",
     "start_time": "2024-06-29T09:27:13.704605Z"
    }
   },
   "cell_type": "code",
   "source": [
    "# 创建模型\n",
    "model = tf.keras.Sequential([\n",
    "    tf.keras.layers.Dense(units=48, activation='relu', name='l1'),\n",
    "    tf.keras.layers.Dense(units=12, activation='relu', name='l2'),\n",
    "    tf.keras.layers.Dense(units=3, activation='linear', name='output'),  # 输出层\n",
    "])\n",
    "\n"
   ],
   "id": "d26ae54f34a1cdf7",
   "outputs": [],
   "execution_count": 68
  },
  {
   "metadata": {},
   "cell_type": "markdown",
   "source": [
    "创建好以后,需要先编译模型,\n",
    "\n",
    "第三个参数metrics用于值定在训练过程中药监控的指标是准确性.\n"
   ],
   "id": "609dc59db2e8d4b9"
  },
  {
   "metadata": {
    "ExecuteTime": {
     "end_time": "2024-06-29T09:27:13.721756Z",
     "start_time": "2024-06-29T09:27:13.714088Z"
    }
   },
   "cell_type": "code",
   "source": [
    "# 编译模型\n",
    "model.compile(optimizer='adam', loss=SparseCategoricalCrossentropy(from_logits=True), metrics=['accuracy'])\n"
   ],
   "id": "30e84f4eba7d9d24",
   "outputs": [],
   "execution_count": 69
  },
  {
   "metadata": {
    "ExecuteTime": {
     "end_time": "2024-06-29T09:27:17.797599Z",
     "start_time": "2024-06-29T09:27:13.723128Z"
    }
   },
   "cell_type": "code",
   "source": "model.fit(x_train, y_train, epochs=50, validation_data=(x_cv, y_cv))\n",
   "id": "45461f8d4bad693b",
   "outputs": [
    {
     "name": "stdout",
     "output_type": "stream",
     "text": [
      "Epoch 1/50\n",
      "\u001B[1m3/3\u001B[0m \u001B[32m━━━━━━━━━━━━━━━━━━━━\u001B[0m\u001B[37m\u001B[0m \u001B[1m1s\u001B[0m 71ms/step - accuracy: 0.5757 - loss: 1.9461 - val_accuracy: 0.5667 - val_loss: 1.9836\n",
      "Epoch 2/50\n",
      "\u001B[1m3/3\u001B[0m \u001B[32m━━━━━━━━━━━━━━━━━━━━\u001B[0m\u001B[37m\u001B[0m \u001B[1m0s\u001B[0m 13ms/step - accuracy: 0.6174 - loss: 1.7706 - val_accuracy: 0.6333 - val_loss: 1.7000\n",
      "Epoch 3/50\n",
      "\u001B[1m3/3\u001B[0m \u001B[32m━━━━━━━━━━━━━━━━━━━━\u001B[0m\u001B[37m\u001B[0m \u001B[1m0s\u001B[0m 14ms/step - accuracy: 0.6403 - loss: 1.5239 - val_accuracy: 0.6333 - val_loss: 1.4735\n",
      "Epoch 4/50\n",
      "\u001B[1m3/3\u001B[0m \u001B[32m━━━━━━━━━━━━━━━━━━━━\u001B[0m\u001B[37m\u001B[0m \u001B[1m0s\u001B[0m 15ms/step - accuracy: 0.6748 - loss: 1.3394 - val_accuracy: 0.5667 - val_loss: 1.3012\n",
      "Epoch 5/50\n",
      "\u001B[1m3/3\u001B[0m \u001B[32m━━━━━━━━━━━━━━━━━━━━\u001B[0m\u001B[37m\u001B[0m \u001B[1m0s\u001B[0m 17ms/step - accuracy: 0.6376 - loss: 1.1814 - val_accuracy: 0.4000 - val_loss: 1.1810\n",
      "Epoch 6/50\n",
      "\u001B[1m3/3\u001B[0m \u001B[32m━━━━━━━━━━━━━━━━━━━━\u001B[0m\u001B[37m\u001B[0m \u001B[1m0s\u001B[0m 15ms/step - accuracy: 0.3659 - loss: 1.1341 - val_accuracy: 0.1667 - val_loss: 1.1122\n",
      "Epoch 7/50\n",
      "\u001B[1m3/3\u001B[0m \u001B[32m━━━━━━━━━━━━━━━━━━━━\u001B[0m\u001B[37m\u001B[0m \u001B[1m0s\u001B[0m 15ms/step - accuracy: 0.2355 - loss: 1.0846 - val_accuracy: 0.3667 - val_loss: 1.0871\n",
      "Epoch 8/50\n",
      "\u001B[1m3/3\u001B[0m \u001B[32m━━━━━━━━━━━━━━━━━━━━\u001B[0m\u001B[37m\u001B[0m \u001B[1m0s\u001B[0m 14ms/step - accuracy: 0.4961 - loss: 1.0791 - val_accuracy: 0.5667 - val_loss: 1.0680\n",
      "Epoch 9/50\n",
      "\u001B[1m3/3\u001B[0m \u001B[32m━━━━━━━━━━━━━━━━━━━━\u001B[0m\u001B[37m\u001B[0m \u001B[1m0s\u001B[0m 13ms/step - accuracy: 0.5267 - loss: 1.0594 - val_accuracy: 0.4667 - val_loss: 1.0443\n",
      "Epoch 10/50\n",
      "\u001B[1m3/3\u001B[0m \u001B[32m━━━━━━━━━━━━━━━━━━━━\u001B[0m\u001B[37m\u001B[0m \u001B[1m0s\u001B[0m 14ms/step - accuracy: 0.5407 - loss: 1.0270 - val_accuracy: 0.6000 - val_loss: 1.0258\n",
      "Epoch 11/50\n",
      "\u001B[1m3/3\u001B[0m \u001B[32m━━━━━━━━━━━━━━━━━━━━\u001B[0m\u001B[37m\u001B[0m \u001B[1m0s\u001B[0m 13ms/step - accuracy: 0.5773 - loss: 1.0254 - val_accuracy: 0.5667 - val_loss: 1.0034\n",
      "Epoch 12/50\n",
      "\u001B[1m3/3\u001B[0m \u001B[32m━━━━━━━━━━━━━━━━━━━━\u001B[0m\u001B[37m\u001B[0m \u001B[1m0s\u001B[0m 16ms/step - accuracy: 0.5802 - loss: 0.9953 - val_accuracy: 0.3667 - val_loss: 0.9901\n",
      "Epoch 13/50\n",
      "\u001B[1m3/3\u001B[0m \u001B[32m━━━━━━━━━━━━━━━━━━━━\u001B[0m\u001B[37m\u001B[0m \u001B[1m0s\u001B[0m 13ms/step - accuracy: 0.4210 - loss: 0.9756 - val_accuracy: 0.3667 - val_loss: 0.9841\n",
      "Epoch 14/50\n",
      "\u001B[1m3/3\u001B[0m \u001B[32m━━━━━━━━━━━━━━━━━━━━\u001B[0m\u001B[37m\u001B[0m \u001B[1m0s\u001B[0m 14ms/step - accuracy: 0.3480 - loss: 0.9710 - val_accuracy: 0.3333 - val_loss: 0.9778\n",
      "Epoch 15/50\n",
      "\u001B[1m3/3\u001B[0m \u001B[32m━━━━━━━━━━━━━━━━━━━━\u001B[0m\u001B[37m\u001B[0m \u001B[1m0s\u001B[0m 14ms/step - accuracy: 0.3698 - loss: 0.9456 - val_accuracy: 0.3333 - val_loss: 0.9681\n",
      "Epoch 16/50\n",
      "\u001B[1m3/3\u001B[0m \u001B[32m━━━━━━━━━━━━━━━━━━━━\u001B[0m\u001B[37m\u001B[0m \u001B[1m0s\u001B[0m 13ms/step - accuracy: 0.3480 - loss: 0.9407 - val_accuracy: 0.3333 - val_loss: 0.9540\n",
      "Epoch 17/50\n",
      "\u001B[1m3/3\u001B[0m \u001B[32m━━━━━━━━━━━━━━━━━━━━\u001B[0m\u001B[37m\u001B[0m \u001B[1m0s\u001B[0m 14ms/step - accuracy: 0.3435 - loss: 0.9449 - val_accuracy: 0.4333 - val_loss: 0.9362\n",
      "Epoch 18/50\n",
      "\u001B[1m3/3\u001B[0m \u001B[32m━━━━━━━━━━━━━━━━━━━━\u001B[0m\u001B[37m\u001B[0m \u001B[1m0s\u001B[0m 13ms/step - accuracy: 0.4549 - loss: 0.9043 - val_accuracy: 0.4667 - val_loss: 0.9204\n",
      "Epoch 19/50\n",
      "\u001B[1m3/3\u001B[0m \u001B[32m━━━━━━━━━━━━━━━━━━━━\u001B[0m\u001B[37m\u001B[0m \u001B[1m0s\u001B[0m 13ms/step - accuracy: 0.4860 - loss: 0.9029 - val_accuracy: 0.5667 - val_loss: 0.9059\n",
      "Epoch 20/50\n",
      "\u001B[1m3/3\u001B[0m \u001B[32m━━━━━━━━━━━━━━━━━━━━\u001B[0m\u001B[37m\u001B[0m \u001B[1m0s\u001B[0m 13ms/step - accuracy: 0.6826 - loss: 0.8900 - val_accuracy: 0.6333 - val_loss: 0.8922\n",
      "Epoch 21/50\n",
      "\u001B[1m3/3\u001B[0m \u001B[32m━━━━━━━━━━━━━━━━━━━━\u001B[0m\u001B[37m\u001B[0m \u001B[1m0s\u001B[0m 13ms/step - accuracy: 0.7616 - loss: 0.8929 - val_accuracy: 0.7667 - val_loss: 0.8788\n",
      "Epoch 22/50\n",
      "\u001B[1m3/3\u001B[0m \u001B[32m━━━━━━━━━━━━━━━━━━━━\u001B[0m\u001B[37m\u001B[0m \u001B[1m0s\u001B[0m 13ms/step - accuracy: 0.8480 - loss: 0.8588 - val_accuracy: 0.7000 - val_loss: 0.8662\n",
      "Epoch 23/50\n",
      "\u001B[1m3/3\u001B[0m \u001B[32m━━━━━━━━━━━━━━━━━━━━\u001B[0m\u001B[37m\u001B[0m \u001B[1m0s\u001B[0m 13ms/step - accuracy: 0.8764 - loss: 0.8603 - val_accuracy: 0.7000 - val_loss: 0.8533\n",
      "Epoch 24/50\n",
      "\u001B[1m3/3\u001B[0m \u001B[32m━━━━━━━━━━━━━━━━━━━━\u001B[0m\u001B[37m\u001B[0m \u001B[1m0s\u001B[0m 14ms/step - accuracy: 0.9037 - loss: 0.8420 - val_accuracy: 0.7000 - val_loss: 0.8411\n",
      "Epoch 25/50\n",
      "\u001B[1m3/3\u001B[0m \u001B[32m━━━━━━━━━━━━━━━━━━━━\u001B[0m\u001B[37m\u001B[0m \u001B[1m0s\u001B[0m 14ms/step - accuracy: 0.8614 - loss: 0.8225 - val_accuracy: 0.7000 - val_loss: 0.8293\n",
      "Epoch 26/50\n",
      "\u001B[1m3/3\u001B[0m \u001B[32m━━━━━━━━━━━━━━━━━━━━\u001B[0m\u001B[37m\u001B[0m \u001B[1m0s\u001B[0m 16ms/step - accuracy: 0.8519 - loss: 0.8029 - val_accuracy: 0.7000 - val_loss: 0.8166\n",
      "Epoch 27/50\n",
      "\u001B[1m3/3\u001B[0m \u001B[32m━━━━━━━━━━━━━━━━━━━━\u001B[0m\u001B[37m\u001B[0m \u001B[1m0s\u001B[0m 13ms/step - accuracy: 0.8480 - loss: 0.7980 - val_accuracy: 0.7000 - val_loss: 0.8025\n",
      "Epoch 28/50\n",
      "\u001B[1m3/3\u001B[0m \u001B[32m━━━━━━━━━━━━━━━━━━━━\u001B[0m\u001B[37m\u001B[0m \u001B[1m0s\u001B[0m 14ms/step - accuracy: 0.8379 - loss: 0.7894 - val_accuracy: 0.7000 - val_loss: 0.7883\n",
      "Epoch 29/50\n",
      "\u001B[1m3/3\u001B[0m \u001B[32m━━━━━━━━━━━━━━━━━━━━\u001B[0m\u001B[37m\u001B[0m \u001B[1m0s\u001B[0m 14ms/step - accuracy: 0.8809 - loss: 0.7527 - val_accuracy: 0.7000 - val_loss: 0.7753\n",
      "Epoch 30/50\n",
      "\u001B[1m3/3\u001B[0m \u001B[32m━━━━━━━━━━━━━━━━━━━━\u001B[0m\u001B[37m\u001B[0m \u001B[1m0s\u001B[0m 14ms/step - accuracy: 0.8324 - loss: 0.7469 - val_accuracy: 0.7000 - val_loss: 0.7608\n",
      "Epoch 31/50\n",
      "\u001B[1m3/3\u001B[0m \u001B[32m━━━━━━━━━━━━━━━━━━━━\u001B[0m\u001B[37m\u001B[0m \u001B[1m0s\u001B[0m 14ms/step - accuracy: 0.8373 - loss: 0.7544 - val_accuracy: 0.7333 - val_loss: 0.7458\n",
      "Epoch 32/50\n",
      "\u001B[1m3/3\u001B[0m \u001B[32m━━━━━━━━━━━━━━━━━━━━\u001B[0m\u001B[37m\u001B[0m \u001B[1m0s\u001B[0m 14ms/step - accuracy: 0.8859 - loss: 0.7277 - val_accuracy: 0.7333 - val_loss: 0.7321\n",
      "Epoch 33/50\n",
      "\u001B[1m3/3\u001B[0m \u001B[32m━━━━━━━━━━━━━━━━━━━━\u001B[0m\u001B[37m\u001B[0m \u001B[1m0s\u001B[0m 13ms/step - accuracy: 0.9054 - loss: 0.7040 - val_accuracy: 0.7000 - val_loss: 0.7192\n",
      "Epoch 34/50\n",
      "\u001B[1m3/3\u001B[0m \u001B[32m━━━━━━━━━━━━━━━━━━━━\u001B[0m\u001B[37m\u001B[0m \u001B[1m0s\u001B[0m 14ms/step - accuracy: 0.8780 - loss: 0.6998 - val_accuracy: 0.7333 - val_loss: 0.7052\n",
      "Epoch 35/50\n",
      "\u001B[1m3/3\u001B[0m \u001B[32m━━━━━━━━━━━━━━━━━━━━\u001B[0m\u001B[37m\u001B[0m \u001B[1m0s\u001B[0m 14ms/step - accuracy: 0.8976 - loss: 0.6747 - val_accuracy: 0.7333 - val_loss: 0.6920\n",
      "Epoch 36/50\n",
      "\u001B[1m3/3\u001B[0m \u001B[32m━━━━━━━━━━━━━━━━━━━━\u001B[0m\u001B[37m\u001B[0m \u001B[1m0s\u001B[0m 14ms/step - accuracy: 0.8819 - loss: 0.6772 - val_accuracy: 0.7667 - val_loss: 0.6781\n",
      "Epoch 37/50\n",
      "\u001B[1m3/3\u001B[0m \u001B[32m━━━━━━━━━━━━━━━━━━━━\u001B[0m\u001B[37m\u001B[0m \u001B[1m0s\u001B[0m 14ms/step - accuracy: 0.9165 - loss: 0.6524 - val_accuracy: 0.7667 - val_loss: 0.6625\n",
      "Epoch 38/50\n",
      "\u001B[1m3/3\u001B[0m \u001B[32m━━━━━━━━━━━━━━━━━━━━\u001B[0m\u001B[37m\u001B[0m \u001B[1m0s\u001B[0m 15ms/step - accuracy: 0.9159 - loss: 0.6389 - val_accuracy: 0.8000 - val_loss: 0.6449\n",
      "Epoch 39/50\n",
      "\u001B[1m3/3\u001B[0m \u001B[32m━━━━━━━━━━━━━━━━━━━━\u001B[0m\u001B[37m\u001B[0m \u001B[1m0s\u001B[0m 14ms/step - accuracy: 0.9566 - loss: 0.6241 - val_accuracy: 0.7667 - val_loss: 0.6376\n",
      "Epoch 40/50\n",
      "\u001B[1m3/3\u001B[0m \u001B[32m━━━━━━━━━━━━━━━━━━━━\u001B[0m\u001B[37m\u001B[0m \u001B[1m0s\u001B[0m 14ms/step - accuracy: 0.9243 - loss: 0.5971 - val_accuracy: 0.7667 - val_loss: 0.6256\n",
      "Epoch 41/50\n",
      "\u001B[1m3/3\u001B[0m \u001B[32m━━━━━━━━━━━━━━━━━━━━\u001B[0m\u001B[37m\u001B[0m \u001B[1m0s\u001B[0m 14ms/step - accuracy: 0.9321 - loss: 0.5789 - val_accuracy: 0.8000 - val_loss: 0.6094\n",
      "Epoch 42/50\n",
      "\u001B[1m3/3\u001B[0m \u001B[32m━━━━━━━━━━━━━━━━━━━━\u001B[0m\u001B[37m\u001B[0m \u001B[1m0s\u001B[0m 14ms/step - accuracy: 0.9566 - loss: 0.5638 - val_accuracy: 0.8333 - val_loss: 0.5923\n",
      "Epoch 43/50\n",
      "\u001B[1m3/3\u001B[0m \u001B[32m━━━━━━━━━━━━━━━━━━━━\u001B[0m\u001B[37m\u001B[0m \u001B[1m0s\u001B[0m 15ms/step - accuracy: 0.9582 - loss: 0.5615 - val_accuracy: 0.8667 - val_loss: 0.5802\n",
      "Epoch 44/50\n",
      "\u001B[1m3/3\u001B[0m \u001B[32m━━━━━━━━━━━━━━━━━━━━\u001B[0m\u001B[37m\u001B[0m \u001B[1m0s\u001B[0m 14ms/step - accuracy: 0.9582 - loss: 0.5535 - val_accuracy: 0.8333 - val_loss: 0.5706\n",
      "Epoch 45/50\n",
      "\u001B[1m3/3\u001B[0m \u001B[32m━━━━━━━━━━━━━━━━━━━━\u001B[0m\u001B[37m\u001B[0m \u001B[1m0s\u001B[0m 15ms/step - accuracy: 0.9293 - loss: 0.5490 - val_accuracy: 0.8333 - val_loss: 0.5605\n",
      "Epoch 46/50\n",
      "\u001B[1m3/3\u001B[0m \u001B[32m━━━━━━━━━━━━━━━━━━━━\u001B[0m\u001B[37m\u001B[0m \u001B[1m0s\u001B[0m 14ms/step - accuracy: 0.9214 - loss: 0.5364 - val_accuracy: 0.8333 - val_loss: 0.5491\n",
      "Epoch 47/50\n",
      "\u001B[1m3/3\u001B[0m \u001B[32m━━━━━━━━━━━━━━━━━━━━\u001B[0m\u001B[37m\u001B[0m \u001B[1m0s\u001B[0m 13ms/step - accuracy: 0.9371 - loss: 0.5224 - val_accuracy: 0.8333 - val_loss: 0.5375\n",
      "Epoch 48/50\n",
      "\u001B[1m3/3\u001B[0m \u001B[32m━━━━━━━━━━━━━━━━━━━━\u001B[0m\u001B[37m\u001B[0m \u001B[1m0s\u001B[0m 14ms/step - accuracy: 0.9527 - loss: 0.5066 - val_accuracy: 0.8333 - val_loss: 0.5273\n",
      "Epoch 49/50\n",
      "\u001B[1m3/3\u001B[0m \u001B[32m━━━━━━━━━━━━━━━━━━━━\u001B[0m\u001B[37m\u001B[0m \u001B[1m0s\u001B[0m 14ms/step - accuracy: 0.9449 - loss: 0.4906 - val_accuracy: 0.8333 - val_loss: 0.5179\n",
      "Epoch 50/50\n",
      "\u001B[1m3/3\u001B[0m \u001B[32m━━━━━━━━━━━━━━━━━━━━\u001B[0m\u001B[37m\u001B[0m \u001B[1m0s\u001B[0m 15ms/step - accuracy: 0.9371 - loss: 0.4885 - val_accuracy: 0.8000 - val_loss: 0.5101\n"
     ]
    },
    {
     "data": {
      "text/plain": [
       "<keras.src.callbacks.history.History at 0x1d21e7b9ca0>"
      ]
     },
     "execution_count": 70,
     "metadata": {},
     "output_type": "execute_result"
    }
   ],
   "execution_count": 70
  },
  {
   "metadata": {
    "ExecuteTime": {
     "end_time": "2024-06-29T09:27:17.810008Z",
     "start_time": "2024-06-29T09:27:17.798607Z"
    }
   },
   "cell_type": "code",
   "source": [
    "logits = model(x_test)\n",
    "prediction_p = tf.nn.softmax(logits)\n",
    "prediction_p  # 预测概率"
   ],
   "id": "29e2081339df818",
   "outputs": [
    {
     "data": {
      "text/plain": [
       "<tf.Tensor: shape=(30, 3), dtype=float32, numpy=\n",
       "array([[0.04626291, 0.31649598, 0.63724107],\n",
       "       [0.8076741 , 0.13769792, 0.05462804],\n",
       "       [0.14296046, 0.5264712 , 0.33056828],\n",
       "       [0.73986346, 0.18780884, 0.07232773],\n",
       "       [0.7926428 , 0.15098004, 0.05637725],\n",
       "       [0.13025156, 0.52176327, 0.34798512],\n",
       "       [0.04498095, 0.2533184 , 0.7017006 ],\n",
       "       [0.82631797, 0.12592368, 0.04775832],\n",
       "       [0.05421019, 0.31061012, 0.6351797 ],\n",
       "       [0.82415915, 0.12145137, 0.0543895 ],\n",
       "       [0.0554832 , 0.33673254, 0.60778433],\n",
       "       [0.06185145, 0.33591387, 0.6022347 ],\n",
       "       [0.8139495 , 0.13679114, 0.04925928],\n",
       "       [0.8501681 , 0.10632966, 0.04350219],\n",
       "       [0.86621606, 0.09454357, 0.03924033],\n",
       "       [0.12753478, 0.46609128, 0.40637398],\n",
       "       [0.11727343, 0.3366674 , 0.54605913],\n",
       "       [0.1381743 , 0.4384703 , 0.4233554 ],\n",
       "       [0.03800394, 0.24065098, 0.7213452 ],\n",
       "       [0.79995054, 0.14778318, 0.05226625],\n",
       "       [0.06567755, 0.37795076, 0.55637175],\n",
       "       [0.08454625, 0.372468  , 0.5429858 ],\n",
       "       [0.12062652, 0.36352456, 0.515849  ],\n",
       "       [0.03751857, 0.3208248 , 0.64165664],\n",
       "       [0.1488009 , 0.40559986, 0.44559923],\n",
       "       [0.1596986 , 0.5058129 , 0.33448848],\n",
       "       [0.81860715, 0.12833853, 0.05305434],\n",
       "       [0.11363164, 0.4858941 , 0.40047434],\n",
       "       [0.04275322, 0.24126607, 0.71598077],\n",
       "       [0.14168368, 0.46588278, 0.39243355]], dtype=float32)>"
      ]
     },
     "execution_count": 71,
     "metadata": {},
     "output_type": "execute_result"
    }
   ],
   "execution_count": 71
  },
  {
   "metadata": {},
   "cell_type": "markdown",
   "source": "有了预测概率以后,就可以和y_test进行对比.\n",
   "id": "b0f04362b9c49b05"
  },
  {
   "metadata": {
    "ExecuteTime": {
     "end_time": "2024-06-29T09:27:17.825914Z",
     "start_time": "2024-06-29T09:27:17.811392Z"
    }
   },
   "cell_type": "code",
   "source": [
    "predictions = list()\n",
    "\n",
    "for j in prediction_p:\n",
    "    # print(f'np.argmax(j)={np.argmax(j)}')\n",
    "    predictions.append(np.argmax(j))\n",
    "\n",
    "for i in range(len(predictions)):\n",
    "    if predictions[i] == y_test[i]:\n",
    "        print(f'实际值:{y_test[i]}, 预测值:{predictions[i]}')\n",
    "    else:\n",
    "        print(f'实际值:{y_test[i]}, 预测值:{predictions[i]}, 预测失误.')"
   ],
   "id": "6556c74f435f1db8",
   "outputs": [
    {
     "name": "stdout",
     "output_type": "stream",
     "text": [
      "实际值:2, 预测值:2\n",
      "实际值:0, 预测值:0\n",
      "实际值:1, 预测值:1\n",
      "实际值:0, 预测值:0\n",
      "实际值:0, 预测值:0\n",
      "实际值:1, 预测值:1\n",
      "实际值:2, 预测值:2\n",
      "实际值:0, 预测值:0\n",
      "实际值:2, 预测值:2\n",
      "实际值:0, 预测值:0\n",
      "实际值:2, 预测值:2\n",
      "实际值:2, 预测值:2\n",
      "实际值:0, 预测值:0\n",
      "实际值:0, 预测值:0\n",
      "实际值:0, 预测值:0\n",
      "实际值:1, 预测值:1\n",
      "实际值:1, 预测值:2, 预测失误.\n",
      "实际值:1, 预测值:1\n",
      "实际值:2, 预测值:2\n",
      "实际值:0, 预测值:0\n",
      "实际值:2, 预测值:2\n",
      "实际值:2, 预测值:2\n",
      "实际值:1, 预测值:2, 预测失误.\n",
      "实际值:2, 预测值:2\n",
      "实际值:1, 预测值:2, 预测失误.\n",
      "实际值:1, 预测值:1\n",
      "实际值:0, 预测值:0\n",
      "实际值:1, 预测值:1\n",
      "实际值:2, 预测值:2\n",
      "实际值:1, 预测值:1\n"
     ]
    }
   ],
   "execution_count": 72
  },
  {
   "metadata": {},
   "cell_type": "markdown",
   "source": "最后可以计算一波模型准确率.\n",
   "id": "4cb35f00764bae93"
  },
  {
   "metadata": {
    "ExecuteTime": {
     "end_time": "2024-06-29T09:27:17.832071Z",
     "start_time": "2024-06-29T09:27:17.827299Z"
    }
   },
   "cell_type": "code",
   "source": [
    "accuracy_nn = accuracy_score(y_test, predictions)\n",
    "print(f'scikit-learn计算准确率:{accuracy_nn}')\n"
   ],
   "id": "5f60b4b43630a87a",
   "outputs": [
    {
     "name": "stdout",
     "output_type": "stream",
     "text": [
      "scikit-learn计算准确率:0.9\n"
     ]
    }
   ],
   "execution_count": 73
  },
  {
   "metadata": {},
   "cell_type": "markdown",
   "source": [
    "## 4. 用scikit-learn实现简单的鸢尾花分类.\n",
    "\n"
   ],
   "id": "3c9e9822d2af9ff7"
  },
  {
   "metadata": {
    "ExecuteTime": {
     "end_time": "2024-06-29T09:27:17.837312Z",
     "start_time": "2024-06-29T09:27:17.833162Z"
    }
   },
   "cell_type": "code",
   "source": [
    "from sklearn.linear_model import LogisticRegression\n",
    "from sklearn.tree import DecisionTreeClassifier"
   ],
   "id": "773c05c106966350",
   "outputs": [],
   "execution_count": 74
  },
  {
   "metadata": {},
   "cell_type": "markdown",
   "source": "### 逻辑回归实现\n",
   "id": "f8f234dae1097018"
  },
  {
   "metadata": {
    "ExecuteTime": {
     "end_time": "2024-06-29T09:27:17.858617Z",
     "start_time": "2024-06-29T09:27:17.839327Z"
    }
   },
   "cell_type": "code",
   "source": [
    "model_regression = LogisticRegression()  # 创建一个逻辑回归模型\n",
    "model_regression.fit(x_train, y_train)\n",
    "y_pre = model_regression.predict(x_test)\n",
    "accuracy_regression = accuracy_score(y_test, y_pre)\n",
    "print(f'逻辑回归模型预测准确率: {accuracy_regression}')\n"
   ],
   "id": "ca60e2ca09fed3fe",
   "outputs": [
    {
     "name": "stdout",
     "output_type": "stream",
     "text": [
      "逻辑回归模型预测准确率: 0.9666666666666667\n"
     ]
    }
   ],
   "execution_count": 75
  },
  {
   "metadata": {},
   "cell_type": "markdown",
   "source": "### 决策树实现\n",
   "id": "4a017d15044a12ef"
  },
  {
   "metadata": {
    "ExecuteTime": {
     "end_time": "2024-06-29T09:27:17.867127Z",
     "start_time": "2024-06-29T09:27:17.859619Z"
    }
   },
   "cell_type": "code",
   "source": [
    "model_decision_tree = DecisionTreeClassifier()  # 创建决策树模型\n",
    "model_decision_tree.fit(x_train, y_train)\n",
    "y_pre = model_decision_tree.predict(x_test)\n",
    "accuracy_decision_tree = accuracy_score(y_test, y_pre)\n",
    "print(f'决策树模型预测准确率: {accuracy_decision_tree}')\n"
   ],
   "id": "1591277d1967df33",
   "outputs": [
    {
     "name": "stdout",
     "output_type": "stream",
     "text": [
      "决策树模型预测准确率: 0.9666666666666667\n"
     ]
    }
   ],
   "execution_count": 76
  },
  {
   "metadata": {
    "ExecuteTime": {
     "end_time": "2024-06-29T09:27:17.871755Z",
     "start_time": "2024-06-29T09:27:17.869129Z"
    }
   },
   "cell_type": "code",
   "source": "",
   "id": "e9ebe2a0f7cc31a3",
   "outputs": [],
   "execution_count": 76
  },
  {
   "metadata": {},
   "cell_type": "markdown",
   "source": "最后将三种模型准确率进行对比一下\n",
   "id": "e694865788c22b29"
  },
  {
   "metadata": {
    "ExecuteTime": {
     "end_time": "2024-06-29T09:29:19.640088Z",
     "start_time": "2024-06-29T09:29:19.636028Z"
    }
   },
   "cell_type": "code",
   "source": "print(f'三种模型的准确率依次是:\\n逻辑回归模型准确率: {accuracy_regression:0.4f}\\n决策树模型准确率: {accuracy_decision_tree:0.4f}\\n神经网络模型准确率: {accuracy_nn:0.4f}')\n",
   "id": "d6c5f1be8b64f076",
   "outputs": [
    {
     "name": "stdout",
     "output_type": "stream",
     "text": [
      "三种模型的准确率依次是:\n",
      "逻辑回归模型准确率: 0.9667\n",
      "决策树模型准确率: 0.9667\n",
      "神经网络模型准确率: 0.9000\n"
     ]
    }
   ],
   "execution_count": 90
  }
 ],
 "metadata": {
  "kernelspec": {
   "display_name": "Python 3",
   "language": "python",
   "name": "python3"
  },
  "language_info": {
   "codemirror_mode": {
    "name": "ipython",
    "version": 2
   },
   "file_extension": ".py",
   "mimetype": "text/x-python",
   "name": "python",
   "nbconvert_exporter": "python",
   "pygments_lexer": "ipython2",
   "version": "2.7.6"
  }
 },
 "nbformat": 4,
 "nbformat_minor": 5
}
